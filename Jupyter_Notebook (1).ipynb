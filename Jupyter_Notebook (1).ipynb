{
 "cells": [
  {
   "cell_type": "markdown",
   "metadata": {},
   "source": [
    "<center>\n",
    "    <img src=\"https://cf-courses-data.s3.us.cloud-object-storage.appdomain.cloud/IBMDeveloperSkillsNetwork-DS0105EN-SkillsNetwork/labs/Module2/images/SN_web_lightmode.png\" width=\"300\" alt=\"cognitiveclass.ai logo\">\n",
    "</center>\n"
   ]
  },
  {
   "cell_type": "markdown",
   "metadata": {},
   "source": [
    "Jupyter Notebook (Tools for Data Science)"
   ]
  },
  {
   "cell_type": "markdown",
   "metadata": {},
   "source": [
    "Introduction\n",
    "Data Science is a method to seek for hidden insight in datasets. There are many Tools to be used in Data Science, one of them is called Jupyter Notebook. Jupyter is a loose acronym meaning Julia, Python, and R but Jupyter notebook now supports many programming languages."
   ]
  },
  {
   "cell_type": "markdown",
   "metadata": {},
   "source": [
    "Data Science Languages\n",
    "Julia, Python, R, SQL"
   ]
  },
  {
   "cell_type": "markdown",
   "metadata": {},
   "source": [
    "Data Science Libraries \n",
    "Python Libraries, NumPy, Matplotlib, Seaborn, Scikit, The Spark Library"
   ]
  },
  {
   "cell_type": "markdown",
   "metadata": {},
   "source": [
    "Table of Data Science tools\n",
    "\n",
    "|Categories of Data Science Tools|Tools|\n",
    "|--------------------------------|-----|\n",
    "|Data Management|MySQL, MangoDB, Ceph, Oracle Database, Microsoft SQL Server, IBM Db2|\n",
    "|Data Integration & Transformation|Apache Airflow, KubeFlow, NodeRED, Informatica PowerCenter, IBM InfoSphere DataStage\n",
    "|Data Visualization|Pixie Dust, Hue|\n",
    "|Model Deployment|Seldon, Kubernetes, Mleap|\n",
    "|Model Monitoring|ModelDB, Prometheus,  IBM AI Fairness 360|\n",
    "|Code Asset Management|GitHub, GitLab, Bitbucket|\n",
    "\n"
   ]
  },
  {
   "cell_type": "markdown",
   "metadata": {},
   "source": [
    "Arithmetic expression examples\n",
    "5+5\n",
    "(3+3)*2"
   ]
  },
  {
   "cell_type": "code",
   "execution_count": 2,
   "metadata": {
    "tags": []
   },
   "outputs": [
    {
     "data": {
      "text/plain": [
       "127"
      ]
     },
     "execution_count": 2,
     "metadata": {},
     "output_type": "execute_result"
    }
   ],
   "source": [
    "## Create a code cell to multiply and add numbers\n",
    "(25*4)+20+7"
   ]
  },
  {
   "cell_type": "code",
   "execution_count": 26,
   "metadata": {
    "tags": []
   },
   "outputs": [
    {
     "name": "stdin",
     "output_type": "stream",
     "text": [
      "Enter first number:  600\n"
     ]
    },
    {
     "name": "stdout",
     "output_type": "stream",
     "text": [
      "Minutes to Hour: 10.0\n"
     ]
    }
   ],
   "source": [
    "## Create a code cell to convert minutes to hour\n",
    "\n",
    "num1 = input('Enter first number: ')\n",
    "num2 = 60\n",
    "\n",
    "# minutes to hour\n",
    "hour = float(num1) // (num2)\n",
    "\n",
    "print('Minutes to Hour:', hour)\n"
   ]
  },
  {
   "cell_type": "markdown",
   "metadata": {},
   "source": [
    "\n",
    "Objectives of this Lab are as following:\n",
    "1. Identify in which Kernel your Jupyter notebook is running\n",
    "2. Create headings, and add text in bold and italics in Markdown\n",
    "3. Insert links and images using Markdown\n",
    "4. Create Tables in Markdown\n",
    "5. Create ordered and unordered lists in Markdown\n",
    "6. Demonstrate your proficiency in using Markdown in Jupyter notebooks"
   ]
  },
  {
   "cell_type": "markdown",
   "metadata": {},
   "source": [
    "\n",
    "**Author**\n",
    "\n",
    "**Nurul Izzah**"
   ]
  },
  {
   "cell_type": "code",
   "execution_count": null,
   "metadata": {},
   "outputs": [],
   "source": []
  }
 ],
 "metadata": {
  "kernelspec": {
   "display_name": "Python",
   "language": "python",
   "name": "conda-env-python-py"
  },
  "language_info": {
   "codemirror_mode": {
    "name": "ipython",
    "version": 3
   },
   "file_extension": ".py",
   "mimetype": "text/x-python",
   "name": "python",
   "nbconvert_exporter": "python",
   "pygments_lexer": "ipython3",
   "version": "3.7.12"
  }
 },
 "nbformat": 4,
 "nbformat_minor": 4
}
